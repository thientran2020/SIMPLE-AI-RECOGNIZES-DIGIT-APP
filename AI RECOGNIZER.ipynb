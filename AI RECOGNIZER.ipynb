{
 "cells": [
  {
   "cell_type": "markdown",
   "metadata": {},
   "source": [
    "#### IMPORT LIBRARIES"
   ]
  },
  {
   "cell_type": "code",
   "execution_count": 40,
   "metadata": {},
   "outputs": [],
   "source": [
    "import numpy as np\n",
    "import matplotlib.pyplot as plt\n",
    "from sklearn.model_selection import train_test_split\n",
    "from PIL import Image\n",
    "from keras.utils import to_categorical\n",
    "from keras.models import Sequential, save_model\n",
    "from keras.layers import Dense\n",
    "from tensorflow import keras\n",
    "\n",
    "%matplotlib inline\n",
    "plt.rcParams['figure.figsize'] = (5.0, 4.0)\n",
    "plt.rcParams['image.interpolation'] = 'nearest'\n",
    "plt.rcParams['image.cmap'] = 'gray'"
   ]
  },
  {
   "cell_type": "markdown",
   "metadata": {},
   "source": [
    "#### LOAD DATA"
   ]
  },
  {
   "cell_type": "code",
   "execution_count": 31,
   "metadata": {},
   "outputs": [],
   "source": [
    "filepath = \".\\\\images\\\\\""
   ]
  },
  {
   "cell_type": "code",
   "execution_count": 32,
   "metadata": {},
   "outputs": [
    {
     "data": {
      "text/plain": [
       "((200, 28, 28), (200,))"
      ]
     },
     "execution_count": 32,
     "metadata": {},
     "output_type": "execute_result"
    }
   ],
   "source": [
    "Y_orig = np.array([i for i in np.append(np.arange(1, 10), 0) for _ in range(20)])\n",
    "X_orig = []\n",
    "m = 200\n",
    "for i in range(1, m+1):\n",
    "    img = Image.open(filepath + 'img' + str(i) + '.jpg')\n",
    "    img = img.resize((28, 28))\n",
    "    X = 255 - np.array(img)\n",
    "    X_orig.append(X)\n",
    "X_orig = np.array(X_orig)\n",
    "X_orig.shape, Y_orig.shape"
   ]
  },
  {
   "cell_type": "markdown",
   "metadata": {},
   "source": [
    "#### VISUALIZE DATA"
   ]
  },
  {
   "cell_type": "code",
   "execution_count": 33,
   "metadata": {},
   "outputs": [
    {
     "data": {
      "image/png": "[encoded data removed]",
      "text/plain": [
       "<Figure size 360x288 with 9 Axes>"
      ]
     },
     "metadata": {
      "needs_background": "light"
     },
     "output_type": "display_data"
    }
   ],
   "source": [
    "# Look at some image in dataset\n",
    "random_idx = np.random.randint(len(X_orig), size=9)\n",
    "for i, idx in enumerate(random_idx):\n",
    "    plt.subplot(3, 3, i+1)\n",
    "    plt.imshow(X_orig[idx])"
   ]
  },
  {
   "cell_type": "markdown",
   "metadata": {},
   "source": [
    "#### DEFINE SOME HELPFUL FUNCTIONS"
   ]
  },
  {
   "cell_type": "code",
   "execution_count": 34,
   "metadata": {},
   "outputs": [],
   "source": [
    "def reshape(X_train, Y_train, X_test, Y_test):\n",
    "    # Flattern and Standardize\n",
    "    X_train = X_train.reshape(X_train.shape[0], -1).astype(\"float32\") / 255\n",
    "    X_test = X_test.reshape(X_test.shape[0], -1).astype(\"float32\") / 255\n",
    "\n",
    "    # Convert to One-Hot\n",
    "    Y_train = to_categorical(Y_train)\n",
    "    Y_test = to_categorical(Y_test)\n",
    "    return X_train, Y_train, X_test, Y_test"
   ]
  },
  {
   "cell_type": "code",
   "execution_count": 35,
   "metadata": {},
   "outputs": [],
   "source": [
    "def NN_model_3_layers():\n",
    "    model = Sequential()\n",
    "    model.add(Dense(32, input_dim=784, activation='relu'))\n",
    "    model.add(Dense(16, activation='relu'))\n",
    "    model.add(Dense(10, activation='softmax'))\n",
    "    model.compile(loss='categorical_crossentropy', optimizer=keras.optimizers.Adam(learning_rate=0.0075), metrics=['accuracy'])\n",
    "    return model"
   ]
  },
  {
   "cell_type": "markdown",
   "metadata": {},
   "source": [
    "#### PREPROCESSING"
   ]
  },
  {
   "cell_type": "code",
   "execution_count": 36,
   "metadata": {},
   "outputs": [],
   "source": [
    "# Reshape data\n",
    "img_size = 28\n",
    "num_samples = X_orig.shape[0]\n",
    "X_orig = np.array(X_orig).reshape(m, img_size*img_size)"
   ]
  },
  {
   "cell_type": "code",
   "execution_count": 38,
   "metadata": {},
   "outputs": [
    {
     "name": "stdout",
     "output_type": "stream",
     "text": [
      "After reshape and flattern:\n",
      "Number of training examples:  160\n",
      "Number of testing examples:  40\n",
      "Training set: X_train = (160, 784), Y_train = (160, 10)\n",
      "Testing set: X_test = (40, 784), Y_test = (40, 10)\n",
      "Each example size:  (784,)\n"
     ]
    }
   ],
   "source": [
    "X_train, X_test, Y_train, Y_test = train_test_split(X_orig, Y_orig, test_size = 0.2, random_state=0)\n",
    "X_train, Y_train, X_test, Y_test = reshape(X_train, Y_train, X_test, Y_test)\n",
    "print('After reshape and flattern:')\n",
    "print('Number of training examples: ', str(X_train.shape[0]))\n",
    "print('Number of testing examples: ', str(X_test.shape[0]))\n",
    "print('Training set: X_train = %s, Y_train = %s' % (X_train.shape, Y_train.shape))\n",
    "print('Testing set: X_test = %s, Y_test = %s' % (X_test.shape, Y_test.shape))\n",
    "print('Each example size: ', X_train[0].shape)"
   ]
  },
  {
   "cell_type": "markdown",
   "metadata": {},
   "source": [
    "#### TRAINING MODEL - DISPLAY ON TEST DATA"
   ]
  },
  {
   "cell_type": "code",
   "execution_count": 41,
   "metadata": {},
   "outputs": [
    {
     "name": "stdout",
     "output_type": "stream",
     "text": [
      "Epoch 1/40\n",
      "3/3 [==============================] - 0s 0s/step - loss: 2.3276 - accuracy: 0.0672\n",
      "Epoch 2/40\n",
      "3/3 [==============================] - 0s 1ms/step - loss: 2.1453 - accuracy: 0.2277\n",
      "Epoch 3/40\n",
      "3/3 [==============================] - 0s 1ms/step - loss: 1.8440 - accuracy: 0.3859\n",
      "Epoch 4/40\n",
      "3/3 [==============================] - 0s 1ms/step - loss: 1.5593 - accuracy: 0.4637\n",
      "Epoch 5/40\n",
      "3/3 [==============================] - 0s 1ms/step - loss: 1.3659 - accuracy: 0.5504\n",
      "Epoch 6/40\n",
      "3/3 [==============================] - 0s 1ms/step - loss: 1.0944 - accuracy: 0.7152\n",
      "Epoch 7/40\n",
      "3/3 [==============================] - 0s 1ms/step - loss: 0.9103 - accuracy: 0.7465\n",
      "Epoch 8/40\n",
      "3/3 [==============================] - 0s 1ms/step - loss: 0.7239 - accuracy: 0.8055\n",
      "Epoch 9/40\n",
      "3/3 [==============================] - 0s 1ms/step - loss: 0.6022 - accuracy: 0.8199\n",
      "Epoch 10/40\n",
      "3/3 [==============================] - 0s 2ms/step - loss: 0.4755 - accuracy: 0.8801\n",
      "Epoch 11/40\n",
      "3/3 [==============================] - 0s 1ms/step - loss: 0.4017 - accuracy: 0.8953\n",
      "Epoch 12/40\n",
      "3/3 [==============================] - 0s 1ms/step - loss: 0.3126 - accuracy: 0.9176\n",
      "Epoch 13/40\n",
      "3/3 [==============================] - 0s 1ms/step - loss: 0.2603 - accuracy: 0.9508\n",
      "Epoch 14/40\n",
      "3/3 [==============================] - 0s 1ms/step - loss: 0.1851 - accuracy: 0.9777\n",
      "Epoch 15/40\n",
      "3/3 [==============================] - 0s 501us/step - loss: 0.1169 - accuracy: 0.9887\n",
      "Epoch 16/40\n",
      "3/3 [==============================] - 0s 1ms/step - loss: 0.1037 - accuracy: 0.9879\n",
      "Epoch 17/40\n",
      "3/3 [==============================] - 0s 1ms/step - loss: 0.0667 - accuracy: 0.9949\n",
      "Epoch 18/40\n",
      "3/3 [==============================] - 0s 1ms/step - loss: 0.0570 - accuracy: 0.9949\n",
      "Epoch 19/40\n",
      "3/3 [==============================] - 0s 1ms/step - loss: 0.0465 - accuracy: 1.0000\n",
      "Epoch 20/40\n",
      "3/3 [==============================] - 0s 1ms/step - loss: 0.0364 - accuracy: 1.0000\n",
      "Epoch 21/40\n",
      "3/3 [==============================] - 0s 501us/step - loss: 0.0262 - accuracy: 1.0000\n",
      "Epoch 22/40\n",
      "3/3 [==============================] - 0s 1ms/step - loss: 0.0247 - accuracy: 1.0000\n",
      "Epoch 23/40\n",
      "3/3 [==============================] - 0s 1ms/step - loss: 0.0184 - accuracy: 1.0000\n",
      "Epoch 24/40\n",
      "3/3 [==============================] - 0s 1ms/step - loss: 0.0171 - accuracy: 1.0000\n",
      "Epoch 25/40\n",
      "3/3 [==============================] - 0s 1ms/step - loss: 0.0131 - accuracy: 1.0000\n",
      "Epoch 26/40\n",
      "3/3 [==============================] - 0s 1ms/step - loss: 0.0135 - accuracy: 1.0000\n",
      "Epoch 27/40\n",
      "3/3 [==============================] - 0s 1ms/step - loss: 0.0110 - accuracy: 1.0000\n",
      "Epoch 28/40\n",
      "3/3 [==============================] - 0s 1ms/step - loss: 0.0101 - accuracy: 1.0000\n",
      "Epoch 29/40\n",
      "3/3 [==============================] - 0s 1ms/step - loss: 0.0100 - accuracy: 1.0000\n",
      "Epoch 30/40\n",
      "3/3 [==============================] - 0s 1ms/step - loss: 0.0087 - accuracy: 1.0000\n",
      "Epoch 31/40\n",
      "3/3 [==============================] - 0s 1ms/step - loss: 0.0071 - accuracy: 1.0000\n",
      "Epoch 32/40\n",
      "3/3 [==============================] - 0s 1ms/step - loss: 0.0066 - accuracy: 1.0000\n",
      "Epoch 33/40\n",
      "3/3 [==============================] - 0s 2ms/step - loss: 0.0064 - accuracy: 1.0000\n",
      "Epoch 34/40\n",
      "3/3 [==============================] - 0s 1ms/step - loss: 0.0065 - accuracy: 1.0000\n",
      "Epoch 35/40\n",
      "3/3 [==============================] - 0s 1ms/step - loss: 0.0062 - accuracy: 1.0000\n",
      "Epoch 36/40\n",
      "3/3 [==============================] - 0s 501us/step - loss: 0.0055 - accuracy: 1.0000\n",
      "Epoch 37/40\n",
      "3/3 [==============================] - 0s 1ms/step - loss: 0.0053 - accuracy: 1.0000\n",
      "Epoch 38/40\n",
      "3/3 [==============================] - 0s 1ms/step - loss: 0.0044 - accuracy: 1.0000\n",
      "Epoch 39/40\n",
      "3/3 [==============================] - 0s 501us/step - loss: 0.0043 - accuracy: 1.0000\n",
      "Epoch 40/40\n",
      "3/3 [==============================] - 0s 1ms/step - loss: 0.0043 - accuracy: 1.0000\n"
     ]
    }
   ],
   "source": [
    "model = NN_model_3_layers()\n",
    "history = model.fit(X_train, Y_train, epochs=40, batch_size=64)"
   ]
  },
  {
   "cell_type": "code",
   "execution_count": 43,
   "metadata": {},
   "outputs": [
    {
     "name": "stdout",
     "output_type": "stream",
     "text": [
      "2/2 - 0s - loss: 3.2037 - accuracy: 0.5500\n",
      "Test loss: 3.2036757469177246\n",
      "Test accuracy:  55.000001192092896\n"
     ]
    }
   ],
   "source": [
    "# The reason the test accuracy is small because I don't have a large data set\n",
    "# I think it's able to increase the dataset size by using data augmentation\n",
    "test_scores = model.evaluate(X_test, Y_test, verbose=2)\n",
    "print(\"Test loss:\", test_scores[0])\n",
    "print(\"Test accuracy: \", test_scores[1] * 100)"
   ]
  },
  {
   "cell_type": "markdown",
   "metadata": {},
   "source": [
    "#### SAVE MODEL"
   ]
  },
  {
   "cell_type": "code",
   "execution_count": null,
   "metadata": {},
   "outputs": [],
   "source": [
    "save_model(model, filepath = './digit_predict_model', save_format='h5')"
   ]
  },
  {
   "cell_type": "code",
   "execution_count": null,
   "metadata": {},
   "outputs": [],
   "source": []
  }
 ],
 "metadata": {
  "kernelspec": {
   "display_name": "Python 3",
   "language": "python",
   "name": "python3"
  },
  "language_info": {
   "codemirror_mode": {
    "name": "ipython",
    "version": 3
   },
   "file_extension": ".py",
   "mimetype": "text/x-python",
   "name": "python",
   "nbconvert_exporter": "python",
   "pygments_lexer": "ipython3",
   "version": "3.8.5"
  }
 },
 "nbformat": 4,
 "nbformat_minor": 5
}
